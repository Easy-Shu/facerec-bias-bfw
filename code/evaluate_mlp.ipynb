{
 "cells": [
  {
   "cell_type": "code",
   "execution_count": 1,
   "metadata": {},
   "outputs": [],
   "source": [
    "from pathlib import Path\n",
    "import sys\n",
    "import matplotlib.pyplot as plt\n",
    "import numpy as np\n",
    "import seaborn as sns\n",
    "%load_ext autoreload"
   ]
  },
  {
   "cell_type": "code",
   "execution_count": 2,
   "metadata": {},
   "outputs": [
    {
     "name": "stdout",
     "output_type": "stream",
     "text": [
      "adding /Users/jrobby/WORK/src/facebias/code/facebias to path\n"
     ]
    }
   ],
   "source": [
    "from tensorflow.keras.callbacks import TensorBoard\n",
    "from tensorflow.keras.optimizers import Adam, RMSprop\n",
    "\n",
    "\n",
    "%matplotlib inline\n",
    "dir_package = str(Path('./facebias').resolve())\n",
    "if dir_package not in sys.path:\n",
    "    print(f\"adding {dir_package} to path\")\n",
    "    sys.path.append(dir_package)\n",
    "else:\n",
    "    print(dir_package)\n",
    "from facebias.models.mlp import get_finetuned_mlp\n",
    "from facebias.iotools import split_bfw_features"
   ]
  },
  {
   "cell_type": "code",
   "execution_count": 3,
   "metadata": {},
   "outputs": [],
   "source": [
    "font = {'font.family': 'serif',\n",
    "        'font.serif' : 'Times New Roman',\n",
    "        'font.color':  'darkred',\n",
    "        'font.weight': 'normal',\n",
    "        'font.size': 16,\n",
    "        }\n",
    "sns.set(style=\"white\", rc={\"axes.facecolor\": (0, 0, 0, 0)})\n",
    "sns.set_style('whitegrid', font)"
   ]
  },
  {
   "cell_type": "code",
   "execution_count": 4,
   "metadata": {},
   "outputs": [],
   "source": [
    "d_input='../data/bfw/features/resnet50/features.pkl'\n",
    "# d_input='../data/bfw/features/sphereface/features.pkl'\n",
    "\n",
    "dir_features = str(Path(d_input).parent)\n",
    "f_meta='../data/bfw/meta/bfw-fold-meta-lut.csv'\n",
    "batch_size=64\n",
    "do_gender=True\n",
    "do_ethnicity=False\n",
    "d_weights = 'train_models_resnet50/{}/'\n",
    "\n",
    "# filenames of binary files (MLP weights)\n",
    "fn_gender_weights = \"gender_fc_model.h5\"\n",
    "fn_ethnicity_weights = \"ethnicity_fc_model.h5\"\n",
    "NFOLDS=5"
   ]
  },
  {
   "cell_type": "code",
   "execution_count": 5,
   "metadata": {},
   "outputs": [
    {
     "name": "stdout",
     "output_type": "stream",
     "text": [
      "WARNING:tensorflow:From /Users/jrobby/miniconda3/envs/faces/lib/python3.6/site-packages/tensorflow/python/ops/init_ops.py:1251: calling VarianceScaling.__init__ (from tensorflow.python.ops.init_ops) with dtype is deprecated and will be removed in a future version.\n",
      "Instructions for updating:\n",
      "Call initializer instance with the dtype argument instead of passing it to the constructor\n",
      "WARNING:tensorflow:From /Users/jrobby/miniconda3/envs/faces/lib/python3.6/site-packages/tensorflow/python/ops/nn_impl.py:180: add_dispatch_support.<locals>.wrapper (from tensorflow.python.ops.array_ops) is deprecated and will be removed in a future version.\n",
      "Instructions for updating:\n",
      "Use tf.where in 2.0, which has the same broadcast rule as np.where\n"
     ]
    }
   ],
   "source": [
    "model = get_finetuned_mlp((1, 2048), optimizer='adam')"
   ]
  },
  {
   "cell_type": "markdown",
   "metadata": {},
   "source": [
    "## evaluate each fold"
   ]
  },
  {
   "cell_type": "code",
   "execution_count": 12,
   "metadata": {},
   "outputs": [
    {
     "name": "stdout",
     "output_type": "stream",
     "text": [
      "Gender: fold 1\n",
      "Gender: fold 2\n",
      "Gender: fold 3\n",
      "Gender: fold 4\n",
      "Gender: fold 5\n"
     ]
    }
   ],
   "source": [
    "predictions, true_labels, true_refs = [], [], []\n",
    "for fold in range(1, NFOLDS+1):\n",
    "    print(f\"Gender: fold {fold}\")\n",
    "    \n",
    "    *_, ref_val, features_val, labels_val = split_bfw_features(f_meta, dir_features, val_fold=fold)\n",
    "    model = get_finetuned_mlp(features_val.shape[1:], optimizer='adam')\n",
    "    #     model.summary()\n",
    "    \n",
    "    path_in = Path(d_weights.format(fold)) / \"gender_fc_model.h5\"\n",
    "    model.load_weights(str(path_in))\n",
    "    pred = model.predict(features_val, verbose = 0) \n",
    "    predictions.append(pred)\n",
    "    true_labels.append(labels_val)\n",
    "    true_refs.append(ref_val)"
   ]
  },
  {
   "cell_type": "markdown",
   "metadata": {},
   "source": [
    "Print model summary"
   ]
  },
  {
   "cell_type": "code",
   "execution_count": 9,
   "metadata": {},
   "outputs": [
    {
     "name": "stdout",
     "output_type": "stream",
     "text": [
      "Model: \"sequential_5\"\n",
      "_________________________________________________________________\n",
      "Layer (type)                 Output Shape              Param #   \n",
      "=================================================================\n",
      "flatten_5 (Flatten)          (None, 2048)              0         \n",
      "_________________________________________________________________\n",
      "dense_20 (Dense)             (None, 2048)              4196352   \n",
      "_________________________________________________________________\n",
      "dropout_15 (Dropout)         (None, 2048)              0         \n",
      "_________________________________________________________________\n",
      "dense_21 (Dense)             (None, 1024)              2098176   \n",
      "_________________________________________________________________\n",
      "dropout_16 (Dropout)         (None, 1024)              0         \n",
      "_________________________________________________________________\n",
      "dense_22 (Dense)             (None, 512)               524800    \n",
      "_________________________________________________________________\n",
      "dropout_17 (Dropout)         (None, 512)               0         \n",
      "_________________________________________________________________\n",
      "dense_23 (Dense)             (None, 1)                 513       \n",
      "=================================================================\n",
      "Total params: 6,819,841\n",
      "Trainable params: 6,819,841\n",
      "Non-trainable params: 0\n",
      "_________________________________________________________________\n"
     ]
    }
   ],
   "source": [
    "model.summary()"
   ]
  },
  {
   "cell_type": "markdown",
   "metadata": {},
   "source": [
    "Compare predictions to ground-truth"
   ]
  },
  {
   "cell_type": "code",
   "execution_count": 46,
   "metadata": {},
   "outputs": [
    {
     "data": {
      "text/plain": [
       "array([0.97525, 0.98325, 0.98525, 0.988  , 0.9795 ])"
      ]
     },
     "execution_count": 46,
     "metadata": {},
     "output_type": "execute_result"
    }
   ],
   "source": [
    "scores = np.zeros((predictions[0].shape[0], NFOLDS))\n",
    "counter = 0\n",
    "for prediction, true_label in zip(predictions, true_labels):\n",
    "    results = (np.round(prediction).flatten().astype(int) == np.round(true_label).flatten()).astype(int)\n",
    "    scores[:, counter] = results.flatten()\n",
    "    counter += 1\n",
    "np.mean(scores, axis=0)"
   ]
  },
  {
   "cell_type": "code",
   "execution_count": 49,
   "metadata": {},
   "outputs": [],
   "source": [
    "import pandas as pd\n",
    "from sklearn.metrics import confusion_matrix"
   ]
  },
  {
   "cell_type": "code",
   "execution_count": 50,
   "metadata": {},
   "outputs": [
    {
     "data": {
      "text/plain": [
       "\u001b[0;31mSignature:\u001b[0m \u001b[0mconfusion_matrix\u001b[0m\u001b[0;34m(\u001b[0m\u001b[0my_true\u001b[0m\u001b[0;34m,\u001b[0m \u001b[0my_pred\u001b[0m\u001b[0;34m,\u001b[0m \u001b[0mlabels\u001b[0m\u001b[0;34m=\u001b[0m\u001b[0;32mNone\u001b[0m\u001b[0;34m,\u001b[0m \u001b[0msample_weight\u001b[0m\u001b[0;34m=\u001b[0m\u001b[0;32mNone\u001b[0m\u001b[0;34m)\u001b[0m\u001b[0;34m\u001b[0m\u001b[0;34m\u001b[0m\u001b[0m\n",
       "\u001b[0;31mDocstring:\u001b[0m\n",
       "Compute confusion matrix to evaluate the accuracy of a classification\n",
       "\n",
       "By definition a confusion matrix :math:`C` is such that :math:`C_{i, j}`\n",
       "is equal to the number of observations known to be in group :math:`i` but\n",
       "predicted to be in group :math:`j`.\n",
       "\n",
       "Thus in binary classification, the count of true negatives is\n",
       ":math:`C_{0,0}`, false negatives is :math:`C_{1,0}`, true positives is\n",
       ":math:`C_{1,1}` and false positives is :math:`C_{0,1}`.\n",
       "\n",
       "Read more in the :ref:`User Guide <confusion_matrix>`.\n",
       "\n",
       "Parameters\n",
       "----------\n",
       "y_true : array, shape = [n_samples]\n",
       "    Ground truth (correct) target values.\n",
       "\n",
       "y_pred : array, shape = [n_samples]\n",
       "    Estimated targets as returned by a classifier.\n",
       "\n",
       "labels : array, shape = [n_classes], optional\n",
       "    List of labels to index the matrix. This may be used to reorder\n",
       "    or select a subset of labels.\n",
       "    If none is given, those that appear at least once\n",
       "    in ``y_true`` or ``y_pred`` are used in sorted order.\n",
       "\n",
       "sample_weight : array-like of shape = [n_samples], optional\n",
       "    Sample weights.\n",
       "\n",
       "Returns\n",
       "-------\n",
       "C : array, shape = [n_classes, n_classes]\n",
       "    Confusion matrix\n",
       "\n",
       "References\n",
       "----------\n",
       ".. [1] `Wikipedia entry for the Confusion matrix\n",
       "       <https://en.wikipedia.org/wiki/Confusion_matrix>`_\n",
       "       (Wikipedia and other references may use a different\n",
       "       convention for axes)\n",
       "\n",
       "Examples\n",
       "--------\n",
       ">>> from sklearn.metrics import confusion_matrix\n",
       ">>> y_true = [2, 0, 2, 2, 0, 1]\n",
       ">>> y_pred = [0, 0, 2, 2, 0, 2]\n",
       ">>> confusion_matrix(y_true, y_pred)\n",
       "array([[2, 0, 0],\n",
       "       [0, 0, 1],\n",
       "       [1, 0, 2]])\n",
       "\n",
       ">>> y_true = [\"cat\", \"ant\", \"cat\", \"cat\", \"ant\", \"bird\"]\n",
       ">>> y_pred = [\"ant\", \"ant\", \"cat\", \"cat\", \"ant\", \"cat\"]\n",
       ">>> confusion_matrix(y_true, y_pred, labels=[\"ant\", \"bird\", \"cat\"])\n",
       "array([[2, 0, 0],\n",
       "       [0, 0, 1],\n",
       "       [1, 0, 2]])\n",
       "\n",
       "In the binary case, we can extract true positives, etc as follows:\n",
       "\n",
       ">>> tn, fp, fn, tp = confusion_matrix([0, 1, 0, 1], [1, 1, 1, 0]).ravel()\n",
       ">>> (tn, fp, fn, tp)\n",
       "(0, 2, 1, 1)\n",
       "\u001b[0;31mFile:\u001b[0m      ~/miniconda3/envs/faces/lib/python3.6/site-packages/sklearn/metrics/classification.py\n",
       "\u001b[0;31mType:\u001b[0m      function\n"
      ]
     },
     "metadata": {},
     "output_type": "display_data"
    }
   ],
   "source": [
    "?confusion_matrix"
   ]
  },
  {
   "cell_type": "code",
   "execution_count": 119,
   "metadata": {},
   "outputs": [],
   "source": [
    "from matplotlib import colors as colors, pyplot as plt, style as style, \\\n",
    "    ticker as mtick\n",
    "\n",
    "from collections import defaultdict"
   ]
  },
  {
   "cell_type": "code",
   "execution_count": 121,
   "metadata": {},
   "outputs": [
    {
     "name": "stdout",
     "output_type": "stream",
     "text": [
      "defaultdict(None, {'gender': {0: 'F', 1: 'M'}, 'ethicity': {0: 'A', 1: 'B', 2: 'I', 3: 'W'}})\n"
     ]
    }
   ],
   "source": [
    "label_lut = defaultdict()\n",
    "label_lut['gender'] = {0: 'F', 1: 'M'}\n",
    "label_lut['ethicity'] = {0: 'A', 1: 'B', 2: 'I', 3: 'W'}\n",
    "print(label_lut)"
   ]
  },
  {
   "cell_type": "code",
   "execution_count": 115,
   "metadata": {},
   "outputs": [
    {
     "name": "stdout",
     "output_type": "stream",
     "text": [
      "[0 0 0 ... 3 3 3]\n"
     ]
    }
   ],
   "source": [
    "refs = [el.split('/')[0] for el in true_refs[0]]\n",
    "refs_eth = [el.split('_')[0][0].upper() for el in refs]\n",
    "refs_gender = [el.split('_')[1][0].upper() for el in refs]\n",
    "\n",
    "from sklearn.preprocessing import LabelEncoder\n",
    "le = LabelEncoder()\n",
    "tags = le.fit_transform(refs_eth)\n",
    "print(tags)\n",
    "# str_tags = ['AF', 'AM', 'BF', 'BM', 'IF', 'IM', 'WF', 'WM']\n",
    "str_tags = ['A', 'B', 'I', 'W']"
   ]
  },
  {
   "cell_type": "code",
   "execution_count": 156,
   "metadata": {},
   "outputs": [
    {
     "data": {
      "text/html": [
       "<div>\n",
       "<style scoped>\n",
       "    .dataframe tbody tr th:only-of-type {\n",
       "        vertical-align: middle;\n",
       "    }\n",
       "\n",
       "    .dataframe tbody tr th {\n",
       "        vertical-align: top;\n",
       "    }\n",
       "\n",
       "    .dataframe thead th {\n",
       "        text-align: right;\n",
       "    }\n",
       "</style>\n",
       "<table border=\"1\" class=\"dataframe\">\n",
       "  <thead>\n",
       "    <tr style=\"text-align: right;\">\n",
       "      <th></th>\n",
       "      <th>yp</th>\n",
       "      <th>y</th>\n",
       "      <th>g</th>\n",
       "      <th>e</th>\n",
       "      <th>tag</th>\n",
       "    </tr>\n",
       "  </thead>\n",
       "  <tbody>\n",
       "    <tr>\n",
       "      <th>0</th>\n",
       "      <td>0</td>\n",
       "      <td>0</td>\n",
       "      <td>F</td>\n",
       "      <td>A</td>\n",
       "      <td>AF</td>\n",
       "    </tr>\n",
       "    <tr>\n",
       "      <th>1</th>\n",
       "      <td>0</td>\n",
       "      <td>0</td>\n",
       "      <td>F</td>\n",
       "      <td>A</td>\n",
       "      <td>AF</td>\n",
       "    </tr>\n",
       "    <tr>\n",
       "      <th>2</th>\n",
       "      <td>0</td>\n",
       "      <td>0</td>\n",
       "      <td>F</td>\n",
       "      <td>A</td>\n",
       "      <td>AF</td>\n",
       "    </tr>\n",
       "    <tr>\n",
       "      <th>3</th>\n",
       "      <td>0</td>\n",
       "      <td>0</td>\n",
       "      <td>F</td>\n",
       "      <td>A</td>\n",
       "      <td>AF</td>\n",
       "    </tr>\n",
       "    <tr>\n",
       "      <th>4</th>\n",
       "      <td>0</td>\n",
       "      <td>0</td>\n",
       "      <td>F</td>\n",
       "      <td>A</td>\n",
       "      <td>AF</td>\n",
       "    </tr>\n",
       "  </tbody>\n",
       "</table>\n",
       "</div>"
      ],
      "text/plain": [
       "  yp  y  g  e tag\n",
       "0  0  0  F  A  AF\n",
       "1  0  0  F  A  AF\n",
       "2  0  0  F  A  AF\n",
       "3  0  0  F  A  AF\n",
       "4  0  0  F  A  AF"
      ]
     },
     "execution_count": 156,
     "metadata": {},
     "output_type": "execute_result"
    }
   ],
   "source": [
    "results = (np.round(predictions[0]).flatten().astype(int) == np.round(true_labels[0]).flatten()).astype(int)\n",
    "true_label = true_labels[0]\n",
    "\n",
    "df = pd.DataFrame([results, true_label, refs_gender, refs_eth])\n",
    "df=df.T\n",
    "df.columns=['yp', 'y', 'g', 'e']\n",
    "df['tag'] = df.e + df.g\n",
    "df.loc[:, 'yp'] = (df['yp'] - 1).abs() # flip labels so males are 1, females are 0.\n",
    "df.head()\n",
    "# df = pd.DataFrame([np.array(refs1).T, np.array(results).T], columns=['tag', 'indicator'])"
   ]
  },
  {
   "cell_type": "code",
   "execution_count": 132,
   "metadata": {},
   "outputs": [
    {
     "data": {
      "text/plain": [
       "tag\n",
       "AF    480\n",
       "AM    493\n",
       "BF    484\n",
       "BM    489\n",
       "IF    498\n",
       "IM    491\n",
       "WF    467\n",
       "WM    499\n",
       "Name: yp, dtype: int64"
      ]
     },
     "execution_count": 132,
     "metadata": {},
     "output_type": "execute_result"
    }
   ],
   "source": [
    "df.groupby('tag').sum()['yp']"
   ]
  },
  {
   "cell_type": "code",
   "execution_count": 139,
   "metadata": {},
   "outputs": [
    {
     "data": {
      "text/plain": [
       "tag\n",
       "AF    480\n",
       "AM    493\n",
       "BF    484\n",
       "BM    489\n",
       "IF    498\n",
       "IM    491\n",
       "WF    467\n",
       "WM    499\n",
       "Name: yp, dtype: int64"
      ]
     },
     "execution_count": 139,
     "metadata": {},
     "output_type": "execute_result"
    }
   ],
   "source": [
    "df.groupby('tag').sum()['yp']"
   ]
  },
  {
   "cell_type": "markdown",
   "metadata": {},
   "source": [
    "Build image of scores to display as score map"
   ]
  },
  {
   "cell_type": "code",
   "execution_count": 133,
   "metadata": {},
   "outputs": [],
   "source": [
    "heatmap = np.zeros((4, 4))"
   ]
  },
  {
   "cell_type": "markdown",
   "metadata": {},
   "source": [
    "calculate gender classification accuracy for per ethnicity"
   ]
  },
  {
   "cell_type": "code",
   "execution_count": 196,
   "metadata": {},
   "outputs": [
    {
     "data": {
      "text/plain": [
       "array([[97.3,  0. ,  0. ,  0. ],\n",
       "       [ 0. , 97.3,  0. ,  0. ],\n",
       "       [ 0. ,  0. , 98.9,  0. ],\n",
       "       [ 0. ,  0. ,  0. , 96.6]])"
      ]
     },
     "execution_count": 196,
     "metadata": {},
     "output_type": "execute_result"
    }
   ],
   "source": [
    "tmp_df = df.copy()\n",
    "tmp_df\n",
    "conf_matrix = 1 - (df.groupby('e').sum()['yp'] /  df.groupby('e').count()['yp'])\n",
    "# conf_matrix\n",
    "\n",
    "heatmap[np.diag_indices_from(heatmap)] =conf_matrix.values*100\n",
    "\n",
    "heatmap"
   ]
  },
  {
   "cell_type": "code",
   "execution_count": 197,
   "metadata": {},
   "outputs": [
    {
     "name": "stdout",
     "output_type": "stream",
     "text": [
      "y\n",
      "0    0.0355\n",
      "1    0.0140\n",
      "Name: yp, dtype: float64\n"
     ]
    }
   ],
   "source": [
    "conf_matrix = (df.groupby('y').sum()['yp'] /  df.groupby('y').count()['yp'])\n",
    "# conf_matrix=conf_matrix.reindex()/\n",
    "# conf_matrix.index(str_tags)\n",
    "# conf_matrix.loc[:,'tag'] = str_tags\n",
    "# conf_matrix = confusion_matrix(predictions[0], true_labels[0], refs)\n",
    "print(conf_matrix)"
   ]
  },
  {
   "cell_type": "code",
   "execution_count": 198,
   "metadata": {},
   "outputs": [
    {
     "data": {
      "text/plain": [
       "tag\n",
       "AF    0.960\n",
       "AM    0.014\n",
       "BF    0.968\n",
       "BM    0.022\n",
       "IF    0.996\n",
       "IM    0.018\n",
       "WF    0.934\n",
       "WM    0.002\n",
       "Name: iscorrect, dtype: float64"
      ]
     },
     "execution_count": 198,
     "metadata": {},
     "output_type": "execute_result"
    }
   ],
   "source": [
    "tmp_df = df.copy()\n",
    "tmp_tags = tmp_df.e.unique(), tmp_df.g.unique()\n",
    "tmp_df['iscorrect'] = (tmp_df['y']==tmp_df['yp']).astype(int)\n",
    "# for ethnicity in tmp_tags[0]:\n",
    "#     indx = (tmp_df.e == ethnicity)\n",
    "#     df_sliced = tmp_df.loc[indx]\n",
    "    \n",
    "# for gender in tmp_tags[1]:\n",
    "# #     indx = (tmp_df.e == ethnicity) * \n",
    "#     indx=(tmp_df.g == gender)\n",
    "#     df_sliced = tmp_df.loc[indx]\n",
    "    \n",
    "    \n",
    "    \n",
    "tmp_df.groupby('tag').sum()['iscorrect']/tmp_df.groupby('tag').count()['iscorrect']\n",
    "# tmp_df.head()\n",
    "# tmp_df.groupby('iscorrrect').sum()\n",
    "# conf_matrix = (df_sliced.groupby('y').sum()['yp'] /  df_sliced.groupby('y').count()['yp'])\n",
    "\n",
    "# conf_matrix\n",
    "# conf_matrix = (df.groupby('e').sum()['yp'] /  df.groupby('e').count()['yp'])"
   ]
  },
  {
   "cell_type": "code",
   "execution_count": 199,
   "metadata": {},
   "outputs": [
    {
     "data": {
      "text/plain": [
       "((array([0, 1, 1, 2, 2, 2, 3, 3, 3, 3]),\n",
       "  array([0, 0, 1, 0, 1, 2, 0, 1, 2, 3])),\n",
       " (array([0, 1, 1, 2, 2, 2, 3, 3, 3, 3]),\n",
       "  array([0, 0, 1, 0, 1, 2, 0, 1, 2, 3])))"
      ]
     },
     "execution_count": 199,
     "metadata": {},
     "output_type": "execute_result"
    }
   ],
   "source": [
    "ids = np.tril_indices_from(heatmap), np.tril_indices_from(heatmap)\n",
    "ids"
   ]
  },
  {
   "cell_type": "code",
   "execution_count": 203,
   "metadata": {},
   "outputs": [
    {
     "data": {
      "image/png": "[encoded data removed]",
      "text/plain": [
       "<Figure size 432x432 with 2 Axes>"
      ]
     },
     "metadata": {},
     "output_type": "display_data"
    }
   ],
   "source": [
    "# plot confusion matrix in heatmap format\n",
    "fig, ax = plt.subplots(figsize=(6, 6))\n",
    "\n",
    "# set color scheme and style\n",
    "cmap = colors.LinearSegmentedColormap.from_list(\n",
    "    \"nameofcolormap\", [\"w\", \"b\"], gamma=2.0\n",
    ")\n",
    "style.use(\"seaborn-paper\")  # sets the size of the charts\n",
    "sns.set_style({\"xtick.bottom\": True}, {\"ytick.left\": True})\n",
    "\n",
    "# plot heatmap using seaborn\n",
    "ax = sns.heatmap(\n",
    "    heatmap,\n",
    "    annot=True,\n",
    "    linewidths=0.1,\n",
    "    square=True,\n",
    "    cmap=cmap,\n",
    "    cbar_kws={\"shrink\": 0.7, \"ticks\": [0.0, 2.5, 5.0, 7.5, 10.0, 12.5]},\n",
    "    linecolor=\"black\",\n",
    "    ax=ax,\n",
    "    fmt=\".2f\",\n",
    "    annot_kws={\"size\": 14},\n",
    "    cbar=True,\n",
    ")\n",
    "\n",
    "# add the column names as labels, set fontsize and set title\n",
    "fontsize = 14\n",
    "ax.set_yticklabels(tmp_tags[0], rotation=0, fontsize=fontsize)\n",
    "ax.set_xticklabels(tmp_tags[0], fontsize=fontsize)\n",
    "ax.axhline(y=0, color=\"k\", linewidth=2)     \n",
    "ax.axhline(y=heatmap.shape[1], color=\"k\", linewidth=2)\n",
    "ax.axvline(x=0, color=\"k\", linewidth=2)\n",
    "ax.axvline(x=heatmap.shape[0], color=\"k\", linewidth=2)\n",
    "ax.set_title(\"Rank 1 (%) Error\", fontsize=fontsize)\n",
    "plt.tight_layout()\n",
    "plt.savefig('ethnicity_confusion.pdf')"
   ]
  },
  {
   "cell_type": "code",
   "execution_count": 180,
   "metadata": {},
   "outputs": [
    {
     "data": {
      "text/plain": [
       "\u001b[0;31mSignature:\u001b[0m\n",
       "\u001b[0msns\u001b[0m\u001b[0;34m.\u001b[0m\u001b[0mheatmap\u001b[0m\u001b[0;34m(\u001b[0m\u001b[0;34m\u001b[0m\n",
       "\u001b[0;34m\u001b[0m    \u001b[0mdata\u001b[0m\u001b[0;34m,\u001b[0m\u001b[0;34m\u001b[0m\n",
       "\u001b[0;34m\u001b[0m    \u001b[0mvmin\u001b[0m\u001b[0;34m=\u001b[0m\u001b[0;32mNone\u001b[0m\u001b[0;34m,\u001b[0m\u001b[0;34m\u001b[0m\n",
       "\u001b[0;34m\u001b[0m    \u001b[0mvmax\u001b[0m\u001b[0;34m=\u001b[0m\u001b[0;32mNone\u001b[0m\u001b[0;34m,\u001b[0m\u001b[0;34m\u001b[0m\n",
       "\u001b[0;34m\u001b[0m    \u001b[0mcmap\u001b[0m\u001b[0;34m=\u001b[0m\u001b[0;32mNone\u001b[0m\u001b[0;34m,\u001b[0m\u001b[0;34m\u001b[0m\n",
       "\u001b[0;34m\u001b[0m    \u001b[0mcenter\u001b[0m\u001b[0;34m=\u001b[0m\u001b[0;32mNone\u001b[0m\u001b[0;34m,\u001b[0m\u001b[0;34m\u001b[0m\n",
       "\u001b[0;34m\u001b[0m    \u001b[0mrobust\u001b[0m\u001b[0;34m=\u001b[0m\u001b[0;32mFalse\u001b[0m\u001b[0;34m,\u001b[0m\u001b[0;34m\u001b[0m\n",
       "\u001b[0;34m\u001b[0m    \u001b[0mannot\u001b[0m\u001b[0;34m=\u001b[0m\u001b[0;32mNone\u001b[0m\u001b[0;34m,\u001b[0m\u001b[0;34m\u001b[0m\n",
       "\u001b[0;34m\u001b[0m    \u001b[0mfmt\u001b[0m\u001b[0;34m=\u001b[0m\u001b[0;34m'.2g'\u001b[0m\u001b[0;34m,\u001b[0m\u001b[0;34m\u001b[0m\n",
       "\u001b[0;34m\u001b[0m    \u001b[0mannot_kws\u001b[0m\u001b[0;34m=\u001b[0m\u001b[0;32mNone\u001b[0m\u001b[0;34m,\u001b[0m\u001b[0;34m\u001b[0m\n",
       "\u001b[0;34m\u001b[0m    \u001b[0mlinewidths\u001b[0m\u001b[0;34m=\u001b[0m\u001b[0;36m0\u001b[0m\u001b[0;34m,\u001b[0m\u001b[0;34m\u001b[0m\n",
       "\u001b[0;34m\u001b[0m    \u001b[0mlinecolor\u001b[0m\u001b[0;34m=\u001b[0m\u001b[0;34m'white'\u001b[0m\u001b[0;34m,\u001b[0m\u001b[0;34m\u001b[0m\n",
       "\u001b[0;34m\u001b[0m    \u001b[0mcbar\u001b[0m\u001b[0;34m=\u001b[0m\u001b[0;32mTrue\u001b[0m\u001b[0;34m,\u001b[0m\u001b[0;34m\u001b[0m\n",
       "\u001b[0;34m\u001b[0m    \u001b[0mcbar_kws\u001b[0m\u001b[0;34m=\u001b[0m\u001b[0;32mNone\u001b[0m\u001b[0;34m,\u001b[0m\u001b[0;34m\u001b[0m\n",
       "\u001b[0;34m\u001b[0m    \u001b[0mcbar_ax\u001b[0m\u001b[0;34m=\u001b[0m\u001b[0;32mNone\u001b[0m\u001b[0;34m,\u001b[0m\u001b[0;34m\u001b[0m\n",
       "\u001b[0;34m\u001b[0m    \u001b[0msquare\u001b[0m\u001b[0;34m=\u001b[0m\u001b[0;32mFalse\u001b[0m\u001b[0;34m,\u001b[0m\u001b[0;34m\u001b[0m\n",
       "\u001b[0;34m\u001b[0m    \u001b[0mxticklabels\u001b[0m\u001b[0;34m=\u001b[0m\u001b[0;34m'auto'\u001b[0m\u001b[0;34m,\u001b[0m\u001b[0;34m\u001b[0m\n",
       "\u001b[0;34m\u001b[0m    \u001b[0myticklabels\u001b[0m\u001b[0;34m=\u001b[0m\u001b[0;34m'auto'\u001b[0m\u001b[0;34m,\u001b[0m\u001b[0;34m\u001b[0m\n",
       "\u001b[0;34m\u001b[0m    \u001b[0mmask\u001b[0m\u001b[0;34m=\u001b[0m\u001b[0;32mNone\u001b[0m\u001b[0;34m,\u001b[0m\u001b[0;34m\u001b[0m\n",
       "\u001b[0;34m\u001b[0m    \u001b[0max\u001b[0m\u001b[0;34m=\u001b[0m\u001b[0;32mNone\u001b[0m\u001b[0;34m,\u001b[0m\u001b[0;34m\u001b[0m\n",
       "\u001b[0;34m\u001b[0m    \u001b[0;34m**\u001b[0m\u001b[0mkwargs\u001b[0m\u001b[0;34m,\u001b[0m\u001b[0;34m\u001b[0m\n",
       "\u001b[0;34m\u001b[0m\u001b[0;34m)\u001b[0m\u001b[0;34m\u001b[0m\u001b[0;34m\u001b[0m\u001b[0m\n",
       "\u001b[0;31mDocstring:\u001b[0m\n",
       "Plot rectangular data as a color-encoded matrix.\n",
       "\n",
       "This is an Axes-level function and will draw the heatmap into the\n",
       "currently-active Axes if none is provided to the ``ax`` argument.  Part of\n",
       "this Axes space will be taken and used to plot a colormap, unless ``cbar``\n",
       "is False or a separate Axes is provided to ``cbar_ax``.\n",
       "\n",
       "Parameters\n",
       "----------\n",
       "data : rectangular dataset\n",
       "    2D dataset that can be coerced into an ndarray. If a Pandas DataFrame\n",
       "    is provided, the index/column information will be used to label the\n",
       "    columns and rows.\n",
       "vmin, vmax : floats, optional\n",
       "    Values to anchor the colormap, otherwise they are inferred from the\n",
       "    data and other keyword arguments.\n",
       "cmap : matplotlib colormap name or object, or list of colors, optional\n",
       "    The mapping from data values to color space. If not provided, the\n",
       "    default will depend on whether ``center`` is set.\n",
       "center : float, optional\n",
       "    The value at which to center the colormap when plotting divergant data.\n",
       "    Using this parameter will change the default ``cmap`` if none is\n",
       "    specified.\n",
       "robust : bool, optional\n",
       "    If True and ``vmin`` or ``vmax`` are absent, the colormap range is\n",
       "    computed with robust quantiles instead of the extreme values.\n",
       "annot : bool or rectangular dataset, optional\n",
       "    If True, write the data value in each cell. If an array-like with the\n",
       "    same shape as ``data``, then use this to annotate the heatmap instead\n",
       "    of the raw data.\n",
       "fmt : string, optional\n",
       "    String formatting code to use when adding annotations.\n",
       "annot_kws : dict of key, value mappings, optional\n",
       "    Keyword arguments for ``ax.text`` when ``annot`` is True.\n",
       "linewidths : float, optional\n",
       "    Width of the lines that will divide each cell.\n",
       "linecolor : color, optional\n",
       "    Color of the lines that will divide each cell.\n",
       "cbar : boolean, optional\n",
       "    Whether to draw a colorbar.\n",
       "cbar_kws : dict of key, value mappings, optional\n",
       "    Keyword arguments for `fig.colorbar`.\n",
       "cbar_ax : matplotlib Axes, optional\n",
       "    Axes in which to draw the colorbar, otherwise take space from the\n",
       "    main Axes.\n",
       "square : boolean, optional\n",
       "    If True, set the Axes aspect to \"equal\" so each cell will be\n",
       "    square-shaped.\n",
       "xticklabels, yticklabels : \"auto\", bool, list-like, or int, optional\n",
       "    If True, plot the column names of the dataframe. If False, don't plot\n",
       "    the column names. If list-like, plot these alternate labels as the\n",
       "    xticklabels. If an integer, use the column names but plot only every\n",
       "    n label. If \"auto\", try to densely plot non-overlapping labels.\n",
       "mask : boolean array or DataFrame, optional\n",
       "    If passed, data will not be shown in cells where ``mask`` is True.\n",
       "    Cells with missing values are automatically masked.\n",
       "ax : matplotlib Axes, optional\n",
       "    Axes in which to draw the plot, otherwise use the currently-active\n",
       "    Axes.\n",
       "kwargs : other keyword arguments\n",
       "    All other keyword arguments are passed to ``ax.pcolormesh``.\n",
       "\n",
       "Returns\n",
       "-------\n",
       "ax : matplotlib Axes\n",
       "    Axes object with the heatmap.\n",
       "\n",
       "See also\n",
       "--------\n",
       "clustermap : Plot a matrix using hierachical clustering to arrange the\n",
       "             rows and columns.\n",
       "\n",
       "Examples\n",
       "--------\n",
       "\n",
       "Plot a heatmap for a numpy array:\n",
       "\n",
       ".. plot::\n",
       "    :context: close-figs\n",
       "\n",
       "    >>> import numpy as np; np.random.seed(0)\n",
       "    >>> import seaborn as sns; sns.set()\n",
       "    >>> uniform_data = np.random.rand(10, 12)\n",
       "    >>> ax = sns.heatmap(uniform_data)\n",
       "\n",
       "Change the limits of the colormap:\n",
       "\n",
       ".. plot::\n",
       "    :context: close-figs\n",
       "\n",
       "    >>> ax = sns.heatmap(uniform_data, vmin=0, vmax=1)\n",
       "\n",
       "Plot a heatmap for data centered on 0 with a diverging colormap:\n",
       "\n",
       ".. plot::\n",
       "    :context: close-figs\n",
       "\n",
       "    >>> normal_data = np.random.randn(10, 12)\n",
       "    >>> ax = sns.heatmap(normal_data, center=0)\n",
       "\n",
       "Plot a dataframe with meaningful row and column labels:\n",
       "\n",
       ".. plot::\n",
       "    :context: close-figs\n",
       "\n",
       "    >>> flights = sns.load_dataset(\"flights\")\n",
       "    >>> flights = flights.pivot(\"month\", \"year\", \"passengers\")\n",
       "    >>> ax = sns.heatmap(flights)\n",
       "\n",
       "Annotate each cell with the numeric value using integer formatting:\n",
       "\n",
       ".. plot::\n",
       "    :context: close-figs\n",
       "\n",
       "    >>> ax = sns.heatmap(flights, annot=True, fmt=\"d\")\n",
       "\n",
       "Add lines between each cell:\n",
       "\n",
       ".. plot::\n",
       "    :context: close-figs\n",
       "\n",
       "    >>> ax = sns.heatmap(flights, linewidths=.5)\n",
       "\n",
       "Use a different colormap:\n",
       "\n",
       ".. plot::\n",
       "    :context: close-figs\n",
       "\n",
       "    >>> ax = sns.heatmap(flights, cmap=\"YlGnBu\")\n",
       "\n",
       "Center the colormap at a specific value:\n",
       "\n",
       ".. plot::\n",
       "    :context: close-figs\n",
       "\n",
       "    >>> ax = sns.heatmap(flights, center=flights.loc[\"January\", 1955])\n",
       "\n",
       "Plot every other column label and don't plot row labels:\n",
       "\n",
       ".. plot::\n",
       "    :context: close-figs\n",
       "\n",
       "    >>> data = np.random.randn(50, 20)\n",
       "    >>> ax = sns.heatmap(data, xticklabels=2, yticklabels=False)\n",
       "\n",
       "Don't draw a colorbar:\n",
       "\n",
       ".. plot::\n",
       "    :context: close-figs\n",
       "\n",
       "    >>> ax = sns.heatmap(flights, cbar=False)\n",
       "\n",
       "Use different axes for the colorbar:\n",
       "\n",
       ".. plot::\n",
       "    :context: close-figs\n",
       "\n",
       "    >>> grid_kws = {\"height_ratios\": (.9, .05), \"hspace\": .3}\n",
       "    >>> f, (ax, cbar_ax) = plt.subplots(2, gridspec_kw=grid_kws)\n",
       "    >>> ax = sns.heatmap(flights, ax=ax,\n",
       "    ...                  cbar_ax=cbar_ax,\n",
       "    ...                  cbar_kws={\"orientation\": \"horizontal\"})\n",
       "\n",
       "Use a mask to plot only part of a matrix\n",
       "\n",
       ".. plot::\n",
       "    :context: close-figs\n",
       "\n",
       "    >>> corr = np.corrcoef(np.random.randn(10, 200))\n",
       "    >>> mask = np.zeros_like(corr)\n",
       "    >>> mask[np.triu_indices_from(mask)] = True\n",
       "    >>> with sns.axes_style(\"white\"):\n",
       "    ...     ax = sns.heatmap(corr, mask=mask, vmax=.3, square=True)\n",
       "\u001b[0;31mFile:\u001b[0m      ~/miniconda3/envs/faces/lib/python3.6/site-packages/seaborn/matrix.py\n",
       "\u001b[0;31mType:\u001b[0m      function\n"
      ]
     },
     "metadata": {},
     "output_type": "display_data"
    }
   ],
   "source": [
    "?sns.heatmap"
   ]
  },
  {
   "cell_type": "code",
   "execution_count": 178,
   "metadata": {},
   "outputs": [
    {
     "data": {
      "image/png": "[encoded data removed]",
      "text/plain": [
       "<Figure size 460.8x316.8 with 1 Axes>"
      ]
     },
     "metadata": {},
     "output_type": "display_data"
    }
   ],
   "source": [
    "p(heatmap)\n",
    "plt.show()"
   ]
  },
  {
   "cell_type": "code",
   "execution_count": 44,
   "metadata": {},
   "outputs": [
    {
     "name": "stdout",
     "output_type": "stream",
     "text": [
      "4000 5\n"
     ]
    }
   ],
   "source": [
    "scores = np.zeros((predictions[0].shape[0], NFOLDS))\n",
    "scores.shape\n",
    "print(predictions[0].shape[0], NFOLDS)"
   ]
  },
  {
   "cell_type": "code",
   "execution_count": 31,
   "metadata": {},
   "outputs": [],
   "source": [
    "labels_val=labels_val[...,np.newaxis]"
   ]
  },
  {
   "cell_type": "code",
   "execution_count": 13,
   "metadata": {},
   "outputs": [
    {
     "name": "stdout",
     "output_type": "stream",
     "text": [
      "(4000, 1)\n"
     ]
    }
   ],
   "source": [
    "print(labels_val.shape)"
   ]
  },
  {
   "cell_type": "code",
   "execution_count": 14,
   "metadata": {},
   "outputs": [
    {
     "name": "stdout",
     "output_type": "stream",
     "text": [
      "[0 0 0 0 0]\n",
      "[0 0 0 0 0]\n"
     ]
    }
   ],
   "source": [
    "pred1 = np.argmax(pred, axis = 1)[:5] \n",
    "label = np.argmax(labels_val,axis = 1)[:5] \n",
    "\n",
    "print(pred1)\n",
    "print(label)"
   ]
  },
  {
   "cell_type": "code",
   "execution_count": 20,
   "metadata": {},
   "outputs": [
    {
     "name": "stdout",
     "output_type": "stream",
     "text": [
      "Empty DataFrame\n",
      "Columns: []\n",
      "Index: [0]\n"
     ]
    }
   ],
   "source": [
    "pred2 = np.argmax(pred, axis = 1)\n",
    "import pandas as pd\n",
    "df=pd.DataFrame(pred2.T, columns=['predictions'])\n",
    "print(df.groupby('predictions').count())"
   ]
  },
  {
   "cell_type": "code",
   "execution_count": 22,
   "metadata": {},
   "outputs": [
    {
     "data": {
      "text/plain": [
       "predictions    0\n",
       "dtype: int64"
      ]
     },
     "execution_count": 22,
     "metadata": {},
     "output_type": "execute_result"
    }
   ],
   "source": [
    "df.max()"
   ]
  },
  {
   "cell_type": "code",
   "execution_count": null,
   "metadata": {},
   "outputs": [],
   "source": [
    "if do_ethnicity:\n",
    "    for val_fold in range(1, N_FOLDS + 1):\n",
    "        ref_tr, features_tr, labels_tr, ref_val, features_val, labels_val \\\n",
    "            = split_bfw_features(f_meta, dir_features, 'ethnicity')\n",
    "\n",
    "        opt = Adam(lr=1e-4) if args.optimizer == 'adam' \\\n",
    "            else RMSprop(0.0001, decay=1e-6)\n",
    "        model = get_finetuned_mlp(features_tr.shape[1:], optimizer=opt,\n",
    "                                  loss='sparse_categorical_crossentropy',\n",
    "                                  output_activation='softmax', output_size=4)\n",
    "\n",
    "        model.fit(\n",
    "            features_tr,\n",
    "            labels_tr,\n",
    "            epochs=epochs,\n",
    "            batch_size=batch_size,\n",
    "            validation_data=(features_val, labels_val),\n",
    "            callbacks=[tb_callback]\n",
    "        )\n",
    "        path_in = path_weights / str(val_fold) / \"ethnicity_fc_model.h5\"\n",
    "        model.save_weights(str(path_in))\n"
   ]
  }
 ],
 "metadata": {
  "kernelspec": {
   "display_name": "Python 3",
   "language": "python",
   "name": "python3"
  },
  "language_info": {
   "codemirror_mode": {
    "name": "ipython",
    "version": 3
   },
   "file_extension": ".py",
   "mimetype": "text/x-python",
   "name": "python",
   "nbconvert_exporter": "python",
   "pygments_lexer": "ipython3",
   "version": "3.6.9"
  }
 },
 "nbformat": 4,
 "nbformat_minor": 4
}
