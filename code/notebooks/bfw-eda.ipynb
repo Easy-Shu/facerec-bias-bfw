{
 "cells": [
  {
   "cell_type": "markdown",
   "metadata": {
    "pycharm": {
     "name": "#%% md\n"
    }
   },
   "source": [
    "# Explore data of the Balance Faces in the Wild (BFW) dataset.\n",
    "\n",
    "Uses the data in `data/bfw-datatable.pkl` to explore database statistics. Saves the summary to `results/bfw-stats.csv`."
   ]
  },
  {
   "cell_type": "code",
   "execution_count": 24,
   "metadata": {
    "collapsed": false,
    "jupyter": {
     "outputs_hidden": false
    },
    "pycharm": {
     "is_executing": false,
     "name": "#%%\n"
    }
   },
   "outputs": [],
   "source": [
    "%matplotlib inline\n",
    "import pandas as pd\n",
    "import matplotlib.pyplot as plt\n",
    "import seaborn as sns\n",
    "\n",
    "sns.set(font_scale=1.1)\n",
    "# Load out custom tool for loading and processing the data\n",
    "from facebias.io import load_bfw_datatable"
   ]
  },
  {
   "cell_type": "markdown",
   "metadata": {},
   "source": [
    "## Load the data\n",
    "\n",
    "Read in the data as a pandas.DataFrame and show the first few rows."
   ]
  },
  {
   "cell_type": "code",
   "execution_count": 25,
   "metadata": {
    "jupyter": {
     "source_hidden": true
    },
    "pycharm": {
     "is_executing": false,
     "name": "#%%\n"
    }
   },
   "outputs": [
    {
     "data": {
      "text/html": [
       "<div>\n",
       "<style scoped>\n",
       "    .dataframe tbody tr th:only-of-type {\n",
       "        vertical-align: middle;\n",
       "    }\n",
       "\n",
       "    .dataframe tbody tr th {\n",
       "        vertical-align: top;\n",
       "    }\n",
       "\n",
       "    .dataframe thead th {\n",
       "        text-align: right;\n",
       "    }\n",
       "</style>\n",
       "<table border=\"1\" class=\"dataframe\">\n",
       "  <thead>\n",
       "    <tr style=\"text-align: right;\">\n",
       "      <th></th>\n",
       "      <th>fold</th>\n",
       "      <th>p1</th>\n",
       "      <th>p2</th>\n",
       "      <th>label</th>\n",
       "      <th>id1</th>\n",
       "      <th>id2</th>\n",
       "      <th>att1</th>\n",
       "      <th>att2</th>\n",
       "      <th>score</th>\n",
       "      <th>distance</th>\n",
       "      <th>vgg16</th>\n",
       "      <th>resnet50</th>\n",
       "      <th>senet50</th>\n",
       "      <th>a1</th>\n",
       "      <th>a2</th>\n",
       "      <th>g1</th>\n",
       "      <th>g2</th>\n",
       "      <th>e1</th>\n",
       "      <th>e2</th>\n",
       "      <th>label1</th>\n",
       "    </tr>\n",
       "  </thead>\n",
       "  <tbody>\n",
       "    <tr>\n",
       "      <th>0</th>\n",
       "      <td>1</td>\n",
       "      <td>asian_females/n000009/0010_01.jpg</td>\n",
       "      <td>asian_females/n000009/0043_01.jpg</td>\n",
       "      <td>1</td>\n",
       "      <td>0</td>\n",
       "      <td>0</td>\n",
       "      <td>asian_females</td>\n",
       "      <td>asian_females</td>\n",
       "      <td>0.820039</td>\n",
       "      <td>80.010742</td>\n",
       "      <td>0.820039</td>\n",
       "      <td>0.703258</td>\n",
       "      <td>0.679089</td>\n",
       "      <td>AF</td>\n",
       "      <td>AF</td>\n",
       "      <td>F</td>\n",
       "      <td>F</td>\n",
       "      <td>A</td>\n",
       "      <td>A</td>\n",
       "      <td>1</td>\n",
       "    </tr>\n",
       "    <tr>\n",
       "      <th>1</th>\n",
       "      <td>1</td>\n",
       "      <td>asian_females/n000009/0010_01.jpg</td>\n",
       "      <td>asian_females/n000009/0120_01.jpg</td>\n",
       "      <td>1</td>\n",
       "      <td>0</td>\n",
       "      <td>0</td>\n",
       "      <td>asian_females</td>\n",
       "      <td>asian_females</td>\n",
       "      <td>0.719199</td>\n",
       "      <td>88.251282</td>\n",
       "      <td>0.719199</td>\n",
       "      <td>0.523613</td>\n",
       "      <td>0.594268</td>\n",
       "      <td>AF</td>\n",
       "      <td>AF</td>\n",
       "      <td>F</td>\n",
       "      <td>F</td>\n",
       "      <td>A</td>\n",
       "      <td>A</td>\n",
       "      <td>1</td>\n",
       "    </tr>\n",
       "    <tr>\n",
       "      <th>2</th>\n",
       "      <td>1</td>\n",
       "      <td>asian_females/n000009/0010_01.jpg</td>\n",
       "      <td>asian_females/n000009/0122_02.jpg</td>\n",
       "      <td>1</td>\n",
       "      <td>0</td>\n",
       "      <td>0</td>\n",
       "      <td>asian_females</td>\n",
       "      <td>asian_females</td>\n",
       "      <td>0.732029</td>\n",
       "      <td>84.709984</td>\n",
       "      <td>0.732029</td>\n",
       "      <td>0.527567</td>\n",
       "      <td>0.643680</td>\n",
       "      <td>AF</td>\n",
       "      <td>AF</td>\n",
       "      <td>F</td>\n",
       "      <td>F</td>\n",
       "      <td>A</td>\n",
       "      <td>A</td>\n",
       "      <td>1</td>\n",
       "    </tr>\n",
       "    <tr>\n",
       "      <th>3</th>\n",
       "      <td>1</td>\n",
       "      <td>asian_females/n000009/0010_01.jpg</td>\n",
       "      <td>asian_females/n000009/0188_01.jpg</td>\n",
       "      <td>1</td>\n",
       "      <td>0</td>\n",
       "      <td>0</td>\n",
       "      <td>asian_females</td>\n",
       "      <td>asian_females</td>\n",
       "      <td>0.607093</td>\n",
       "      <td>110.817825</td>\n",
       "      <td>0.607093</td>\n",
       "      <td>0.348211</td>\n",
       "      <td>0.458883</td>\n",
       "      <td>AF</td>\n",
       "      <td>AF</td>\n",
       "      <td>F</td>\n",
       "      <td>F</td>\n",
       "      <td>A</td>\n",
       "      <td>A</td>\n",
       "      <td>1</td>\n",
       "    </tr>\n",
       "    <tr>\n",
       "      <th>4</th>\n",
       "      <td>1</td>\n",
       "      <td>asian_females/n000009/0010_01.jpg</td>\n",
       "      <td>asian_females/n000009/0205_01.jpg</td>\n",
       "      <td>1</td>\n",
       "      <td>0</td>\n",
       "      <td>0</td>\n",
       "      <td>asian_females</td>\n",
       "      <td>asian_females</td>\n",
       "      <td>0.629153</td>\n",
       "      <td>97.704445</td>\n",
       "      <td>0.629153</td>\n",
       "      <td>0.384273</td>\n",
       "      <td>0.494913</td>\n",
       "      <td>AF</td>\n",
       "      <td>AF</td>\n",
       "      <td>F</td>\n",
       "      <td>F</td>\n",
       "      <td>A</td>\n",
       "      <td>A</td>\n",
       "      <td>1</td>\n",
       "    </tr>\n",
       "  </tbody>\n",
       "</table>\n",
       "</div>"
      ],
      "text/plain": [
       "  fold                                 p1                                 p2  \\\n",
       "0    1  asian_females/n000009/0010_01.jpg  asian_females/n000009/0043_01.jpg   \n",
       "1    1  asian_females/n000009/0010_01.jpg  asian_females/n000009/0120_01.jpg   \n",
       "2    1  asian_females/n000009/0010_01.jpg  asian_females/n000009/0122_02.jpg   \n",
       "3    1  asian_females/n000009/0010_01.jpg  asian_females/n000009/0188_01.jpg   \n",
       "4    1  asian_females/n000009/0010_01.jpg  asian_females/n000009/0205_01.jpg   \n",
       "\n",
       "  label  id1  id2           att1           att2     score    distance  \\\n",
       "0     1    0    0  asian_females  asian_females  0.820039   80.010742   \n",
       "1     1    0    0  asian_females  asian_females  0.719199   88.251282   \n",
       "2     1    0    0  asian_females  asian_females  0.732029   84.709984   \n",
       "3     1    0    0  asian_females  asian_females  0.607093  110.817825   \n",
       "4     1    0    0  asian_females  asian_females  0.629153   97.704445   \n",
       "\n",
       "      vgg16  resnet50   senet50  a1  a2 g1 g2 e1 e2  label1  \n",
       "0  0.820039  0.703258  0.679089  AF  AF  F  F  A  A       1  \n",
       "1  0.719199  0.523613  0.594268  AF  AF  F  F  A  A       1  \n",
       "2  0.732029  0.527567  0.643680  AF  AF  F  F  A  A       1  \n",
       "3  0.607093  0.348211  0.458883  AF  AF  F  F  A  A       1  \n",
       "4  0.629153  0.384273  0.494913  AF  AF  F  F  A  A       1  "
      ]
     },
     "execution_count": 25,
     "metadata": {},
     "output_type": "execute_result"
    }
   ],
   "source": [
    "data = load_bfw_datatable('../../data/bfw-datatable.pkl')\n",
    "data.head()"
   ]
  },
  {
   "cell_type": "markdown",
   "metadata": {},
   "source": [
    "Show counts for positive samples of the different subgroups."
   ]
  },
  {
   "cell_type": "code",
   "execution_count": 26,
   "metadata": {
    "collapsed": false,
    "jupyter": {
     "outputs_hidden": false
    },
    "pycharm": {
     "is_executing": false,
     "name": "#%%\n"
    }
   },
   "outputs": [
    {
     "data": {
      "text/plain": [
       "<matplotlib.axes._subplots.AxesSubplot at 0x1a9a751dd0>"
      ]
     },
     "execution_count": 26,
     "metadata": {},
     "output_type": "execute_result"
    },
    {
     "data": {
      "image/png": "[encoded data removed]",
      "text/plain": [
       "<Figure size 1080x360 with 3 Axes>"
      ]
     },
     "metadata": {},
     "output_type": "display_data"
    }
   ],
   "source": [
    "fig, axs = plt.subplots(1,3, figsize=(15, 5))\n",
    "df_posive_pairs = data.loc[data.label==1]\n",
    "sns.countplot(x='e1', data=df_posive_pairs, ax=axs[0])\n",
    "sns.countplot(x='g1', data=df_posive_pairs, ax=axs[1])\n",
    "sns.countplot(x='a1', data=df_posive_pairs, ax=axs[2])\n",
    "\n"
   ]
  }
 ],
 "metadata": {
  "kernelspec": {
   "display_name": "Python 3",
   "language": "python",
   "name": "python3"
  },
  "language_info": {
   "codemirror_mode": {
    "name": "ipython",
    "version": 3
   },
   "file_extension": ".py",
   "mimetype": "text/x-python",
   "name": "python",
   "nbconvert_exporter": "python",
   "pygments_lexer": "ipython3",
   "version": "3.7.3"
  },
  "pycharm": {
   "stem_cell": {
    "cell_type": "raw",
    "metadata": {
     "collapsed": false
    },
    "source": []
   }
  }
 },
 "nbformat": 4,
 "nbformat_minor": 4
}
