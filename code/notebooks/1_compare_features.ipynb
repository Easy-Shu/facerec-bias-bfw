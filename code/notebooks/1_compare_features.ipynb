{
 "cells": [
  {
   "cell_type": "markdown",
   "metadata": {
    "pycharm": {
     "name": "#%% md\n"
    }
   },
   "source": [
    "# Compare lists of feature pairs of the Balance Faces in the Wild (BFW) dataset.\n",
    "\n",
    "Load table in `data/bfw-datatable.pkl` to extract all features and store in the datatable. Overwrites the table to `data/bfw-datatable.pkl`."
   ]
  },
  {
   "cell_type": "markdown",
   "metadata": {},
   "source": [
    "## Add project code to PYTHONPATH, if not already there\n",
    "Check that _path_package_ is set to _code_ directory on respective system"
   ]
  },
  {
   "cell_type": "code",
   "execution_count": 1,
   "metadata": {},
   "outputs": [],
   "source": [
    "import pathlib\n",
    "path_package=f'../'\n",
    "import sys\n",
    "if path_package not in sys.path:\n",
    "    sys.path.append(path_package)"
   ]
  },
  {
   "cell_type": "code",
   "execution_count": 2,
   "metadata": {
    "pycharm": {
     "is_executing": false,
     "name": "#%%\n"
    }
   },
   "outputs": [],
   "source": [
    "%matplotlib inline\n",
    "import numpy as np\n",
    "# Load out custom tool for loading and processing the data\n",
    "from facebias.iotools import load_bfw_datatable, save_bfw_datatable, load_features_from_image_list\n",
    "\n",
    "scorefun = np.dot # function to compare (or score) pairs of features with\n",
    "\n",
    "dir_data = '../../data/'\n",
    "dir_features = f'{dir_data}features/senet50/'\n",
    "f_datatable = f'{dir_data}bfw-datatable.pkl'\n",
    "overwrite_pickle = False"
   ]
  },
  {
   "cell_type": "markdown",
   "metadata": {},
   "source": [
    "## Load the data\n",
    "\n",
    "Read in the data as a pandas.DataFrame and show the first few rows."
   ]
  },
  {
   "cell_type": "code",
   "execution_count": 3,
   "metadata": {
    "pycharm": {
     "is_executing": false,
     "name": "#%%\n"
    }
   },
   "outputs": [
    {
     "data": {
      "text/html": [
       "<div>\n",
       "<style scoped>\n",
       "    .dataframe tbody tr th:only-of-type {\n",
       "        vertical-align: middle;\n",
       "    }\n",
       "\n",
       "    .dataframe tbody tr th {\n",
       "        vertical-align: top;\n",
       "    }\n",
       "\n",
       "    .dataframe thead th {\n",
       "        text-align: right;\n",
       "    }\n",
       "</style>\n",
       "<table border=\"1\" class=\"dataframe\">\n",
       "  <thead>\n",
       "    <tr style=\"text-align: right;\">\n",
       "      <th></th>\n",
       "      <th>p1</th>\n",
       "      <th>p2</th>\n",
       "    </tr>\n",
       "  </thead>\n",
       "  <tbody>\n",
       "    <tr>\n",
       "      <th>0</th>\n",
       "      <td>asian_females/n000009/0010_01.jpg</td>\n",
       "      <td>asian_females/n000009/0043_01.jpg</td>\n",
       "    </tr>\n",
       "    <tr>\n",
       "      <th>1</th>\n",
       "      <td>asian_females/n000009/0010_01.jpg</td>\n",
       "      <td>asian_females/n000009/0120_01.jpg</td>\n",
       "    </tr>\n",
       "    <tr>\n",
       "      <th>2</th>\n",
       "      <td>asian_females/n000009/0010_01.jpg</td>\n",
       "      <td>asian_females/n000009/0122_02.jpg</td>\n",
       "    </tr>\n",
       "    <tr>\n",
       "      <th>3</th>\n",
       "      <td>asian_females/n000009/0010_01.jpg</td>\n",
       "      <td>asian_females/n000009/0188_01.jpg</td>\n",
       "    </tr>\n",
       "    <tr>\n",
       "      <th>4</th>\n",
       "      <td>asian_females/n000009/0010_01.jpg</td>\n",
       "      <td>asian_females/n000009/0205_01.jpg</td>\n",
       "    </tr>\n",
       "  </tbody>\n",
       "</table>\n",
       "</div>"
      ],
      "text/plain": [
       "                                  p1                                 p2\n",
       "0  asian_females/n000009/0010_01.jpg  asian_females/n000009/0043_01.jpg\n",
       "1  asian_females/n000009/0010_01.jpg  asian_females/n000009/0120_01.jpg\n",
       "2  asian_females/n000009/0010_01.jpg  asian_females/n000009/0122_02.jpg\n",
       "3  asian_females/n000009/0010_01.jpg  asian_females/n000009/0188_01.jpg\n",
       "4  asian_females/n000009/0010_01.jpg  asian_females/n000009/0205_01.jpg"
      ]
     },
     "execution_count": 3,
     "metadata": {},
     "output_type": "execute_result"
    }
   ],
   "source": [
    "data = load_bfw_datatable(f_datatable, cols=['p1', 'p2'])\n",
    "data.head()"
   ]
  },
  {
   "cell_type": "markdown",
   "metadata": {},
   "source": [
    "## Load features and generate scores\n",
    "First check if scores were calculated for each pairs; else, load and calculate"
   ]
  },
  {
   "cell_type": "code",
   "execution_count": 4,
   "metadata": {},
   "outputs": [],
   "source": [
    "# create ali_images list of all faces (i.e., unique set)\n",
    "li_images = list(np.unique(data.p1.to_list() + data.p2.to_list()))\n",
    "\n",
    "# read features as a dictionary, with keys set as the filepath of the image with values set as the face encodings\n",
    "features = load_features_from_image_list(li_images, dir_features, ext_feat='npy')"
   ]
  },
  {
   "cell_type": "code",
   "execution_count": 5,
   "metadata": {},
   "outputs": [],
   "source": [
    "# score all feature pairs, because L2 norm applied on features dot is same as cosine sim\n",
    "data['score'] = data.apply(lambda x: (features[x.p1], features[x.p2].T), axis=1)"
   ]
  },
  {
   "cell_type": "code",
   "execution_count": 14,
   "metadata": {},
   "outputs": [],
   "source": [
    "if not pathlib.Path(f_datatable) or overwrite_pickle:\n",
    "    save_bfw_datatable(data, fpath=f_datatable)\n",
    "else:\n",
    "    print('Scores were in datatable. Will not overwrite by default')"
   ]
  }
 ],
 "metadata": {
  "kernelspec": {
   "display_name": "Python 3",
   "language": "python",
   "name": "python3"
  },
  "language_info": {
   "codemirror_mode": {
    "name": "ipython",
    "version": 3
   },
   "file_extension": ".py",
   "mimetype": "text/x-python",
   "name": "python",
   "nbconvert_exporter": "python",
   "pygments_lexer": "ipython3",
   "version": "3.7.3"
  },
  "pycharm": {
   "stem_cell": {
    "cell_type": "raw",
    "source": [],
    "metadata": {
     "collapsed": false
    }
   }
  }
 },
 "nbformat": 4,
 "nbformat_minor": 4
}