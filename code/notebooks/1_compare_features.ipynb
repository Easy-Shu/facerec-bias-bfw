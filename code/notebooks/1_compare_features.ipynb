{
 "cells": [
  {
   "cell_type": "markdown",
   "metadata": {
    "pycharm": {
     "name": "#%% md\n"
    }
   },
   "source": [
    "# Compare lists of feature pairs of the Balance Faces in the Wild (BFW) dataset.\n",
    "\n",
    "Load table in `data/bfw-datatable.pkl` to extract all features and store in the datatable. Overwrites the table to `data/bfw-datatable.pkl`."
   ]
  },
  {
   "cell_type": "markdown",
   "metadata": {},
   "source": [
    "## Add project code to PYTHONPATH, if not already there\n",
    "Check that _path_package_ is set to _code_ directory on respective system"
   ]
  },
  {
   "cell_type": "code",
   "execution_count": 1,
   "metadata": {},
   "outputs": [],
   "source": [
    "import pathlib\n",
    "path_package=f'{str(pathlib.Path().home())}/bfw-data/facerec-bias-bfw/code'\n",
    "import sys\n",
    "if path_package not in sys.path:\n",
    "    sys.path.append(path_package)\n",
    "    "
   ]
  },
  {
   "cell_type": "code",
   "execution_count": 2,
   "metadata": {
    "pycharm": {
     "is_executing": false,
     "name": "#%%\n"
    }
   },
   "outputs": [],
   "source": [
    "%matplotlib inline\n",
    "import pandas as pd\n",
    "import matplotlib.pyplot as plt\n",
    "import seaborn as sns\n",
    "\n",
    "# Load out custom tool for loading and processing the data\n",
    "from facebias.io import load_bfw_datatable"
   ]
  },
  {
   "cell_type": "markdown",
   "metadata": {},
   "source": [
    "## Load the data\n",
    "\n",
    "Read in the data as a pandas.DataFrame and show the first few rows."
   ]
  },
  {
   "cell_type": "code",
   "execution_count": 4,
   "metadata": {
    "pycharm": {
     "is_executing": false,
     "name": "#%%\n"
    }
   },
   "outputs": [
    {
     "data": {
      "text/html": [
       "<div>\n",
       "<style scoped>\n",
       "    .dataframe tbody tr th:only-of-type {\n",
       "        vertical-align: middle;\n",
       "    }\n",
       "\n",
       "    .dataframe tbody tr th {\n",
       "        vertical-align: top;\n",
       "    }\n",
       "\n",
       "    .dataframe thead th {\n",
       "        text-align: right;\n",
       "    }\n",
       "</style>\n",
       "<table border=\"1\" class=\"dataframe\">\n",
       "  <thead>\n",
       "    <tr style=\"text-align: right;\">\n",
       "      <th></th>\n",
       "      <th>p1</th>\n",
       "      <th>p2</th>\n",
       "      <th>senet50</th>\n",
       "    </tr>\n",
       "  </thead>\n",
       "  <tbody>\n",
       "    <tr>\n",
       "      <th>0</th>\n",
       "      <td>asian_females/n000009/0010_01.jpg</td>\n",
       "      <td>asian_females/n000009/0043_01.jpg</td>\n",
       "      <td>0.679089</td>\n",
       "    </tr>\n",
       "    <tr>\n",
       "      <th>1</th>\n",
       "      <td>asian_females/n000009/0010_01.jpg</td>\n",
       "      <td>asian_females/n000009/0120_01.jpg</td>\n",
       "      <td>0.594268</td>\n",
       "    </tr>\n",
       "    <tr>\n",
       "      <th>2</th>\n",
       "      <td>asian_females/n000009/0010_01.jpg</td>\n",
       "      <td>asian_females/n000009/0122_02.jpg</td>\n",
       "      <td>0.643680</td>\n",
       "    </tr>\n",
       "    <tr>\n",
       "      <th>3</th>\n",
       "      <td>asian_females/n000009/0010_01.jpg</td>\n",
       "      <td>asian_females/n000009/0188_01.jpg</td>\n",
       "      <td>0.458883</td>\n",
       "    </tr>\n",
       "    <tr>\n",
       "      <th>4</th>\n",
       "      <td>asian_females/n000009/0010_01.jpg</td>\n",
       "      <td>asian_females/n000009/0205_01.jpg</td>\n",
       "      <td>0.494913</td>\n",
       "    </tr>\n",
       "  </tbody>\n",
       "</table>\n",
       "</div>"
      ],
      "text/plain": [
       "                                  p1                                 p2  \\\n",
       "0  asian_females/n000009/0010_01.jpg  asian_females/n000009/0043_01.jpg   \n",
       "1  asian_females/n000009/0010_01.jpg  asian_females/n000009/0120_01.jpg   \n",
       "2  asian_females/n000009/0010_01.jpg  asian_females/n000009/0122_02.jpg   \n",
       "3  asian_females/n000009/0010_01.jpg  asian_females/n000009/0188_01.jpg   \n",
       "4  asian_females/n000009/0010_01.jpg  asian_females/n000009/0205_01.jpg   \n",
       "\n",
       "    senet50  \n",
       "0  0.679089  \n",
       "1  0.594268  \n",
       "2  0.643680  \n",
       "3  0.458883  \n",
       "4  0.494913  "
      ]
     },
     "execution_count": 4,
     "metadata": {},
     "output_type": "execute_result"
    }
   ],
   "source": [
    "data = load_bfw_datatable('../../data/bfw-pairtable.pkl', cols=['p1', 'p2', 'score'])\n",
    "data.head()"
   ]
  },
  {
   "cell_type": "markdown",
   "metadata": {},
   "source": [
    "## Load features and generate scores\n",
    "First check if scores were calculated for each pairs; else, load and calculate"
   ]
  },
  {
   "cell_type": "code",
   "execution_count": 9,
   "metadata": {},
   "outputs": [
    {
     "name": "stdout",
     "output_type": "stream",
     "text": [
      "Scores were in datatable. Will not overwrite by default\n"
     ]
    }
   ],
   "source": [
    "if 'score' not in data:\n",
    "    # create a list of all faces (i.e., unique set)\n",
    "    li_images = list(np.unique(data.p1.to_list() + data.p2.to_list()))\n",
    "\n",
    "    # read features as a dictionary, with keys set as the filepath of the image with \n",
    "    # values set as the face encodings\n",
    "    features = {f: pd.read_pickle(dir_features + f.replace('.jpg', '.pkl')) for f in\n",
    "                li_images}\n",
    "    \n",
    "    do_save = True\n",
    "else:\n",
    "    print('Scores were in datatable. Will not overwrite by default')\n",
    "    do_save = False"
   ]
  },
  {
   "cell_type": "code",
   "execution_count": null,
   "metadata": {},
   "outputs": [],
   "source": [
    "if do_save:\n",
    "    pd.to_pickle('../../data/bfw-pairtable.pkl')"
   ]
  }
 ],
 "metadata": {
  "kernelspec": {
   "display_name": "Python 3",
   "language": "python",
   "name": "python3"
  },
  "language_info": {
   "codemirror_mode": {
    "name": "ipython",
    "version": 3
   },
   "file_extension": ".py",
   "mimetype": "text/x-python",
   "name": "python",
   "nbconvert_exporter": "python",
   "pygments_lexer": "ipython3",
   "version": "3.7.3"
  }
 },
 "nbformat": 4,
 "nbformat_minor": 4
}
